{
 "cells": [
  {
   "cell_type": "code",
   "execution_count": null,
   "metadata": {},
   "outputs": [],
   "source": [
    "from datetime import datetime\n",
    "from typing import Dict\n",
    "import config_WS\n",
    "import logging\n",
    "import numpy as np\n",
    "import os\n",
    "import time\n",
    "\n",
    "from torch.utils.data import DataLoader\n",
    "\n",
    "from datasets_case1 import KAISTPedWS\n",
    "from utils import utils\n",
    "from utils.evaluation_script import evaluate"
   ]
  },
  {
   "cell_type": "code",
   "execution_count": null,
   "metadata": {},
   "outputs": [],
   "source": [
    "args = config_WS.args\n",
    "train_conf = config_WS.train\n",
    "checkpoint = train_conf.checkpoint\n",
    "start_epoch = train_conf.start_epoch\n",
    "epochs = train_conf.epochs\n",
    "phase = \"Multispectral\"\n",
    "\n",
    "weak_dataset = KAISTPedWS(args, \"weak\", condition='train')\n",
    "weak_loader = DataLoader(weak_dataset, batch_size=train_conf.batch_size, shuffle=True,\n",
    "                            num_workers=config_WS.dataset.workers,\n",
    "                            collate_fn=weak_dataset.collate_fn,\n",
    "                            pin_memory=True)  # note that we're passing the collate function here\n",
    "\n",
    "strong_dataset = KAISTPedWS(args, \"strong\", condition='train')\n",
    "strong_loader = DataLoader(strong_dataset, batch_size=train_conf.batch_size, shuffle=True,\n",
    "                            num_workers=config_WS.dataset.workers,\n",
    "                            collate_fn=strong_dataset.collate_fn,\n",
    "                            pin_memory=True)  # note that we're passing the collate function here"
   ]
  },
  {
   "cell_type": "code",
   "execution_count": null,
   "metadata": {},
   "outputs": [],
   "source": [
    "weak_img = next(iter(weak_loader))\n",
    "strong_img = next(iter(strong_loader))"
   ]
  },
  {
   "cell_type": "code",
   "execution_count": null,
   "metadata": {},
   "outputs": [],
   "source": [
    "import matplotlib.pyplot as plt\n",
    "\n",
    "plt.imshow(weak_img)\n",
    "plt.show()\n",
    "plt.imshow(strong_img)\n",
    "plt.show()"
   ]
  }
 ],
 "metadata": {
  "language_info": {
   "name": "python"
  },
  "orig_nbformat": 4
 },
 "nbformat": 4,
 "nbformat_minor": 2
}
